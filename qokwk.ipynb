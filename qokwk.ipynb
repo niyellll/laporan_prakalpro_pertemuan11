{
 "cells": [
  {
   "cell_type": "markdown",
   "metadata": {},
   "source": [
    "Latihan 10.1 Bualah sebuah program untuk mendapatkan nilai key, value, dan item dari sebuah\n",
    "dictionary.\n",
    "Contoh:\n",
    "Dictionary : {1: 10, 2: 20, 3: 30, 4: 40, 5: 50, 6: 60}\n"
   ]
  },
  {
   "cell_type": "code",
   "execution_count": 6,
   "metadata": {},
   "outputs": [
    {
     "name": "stdout",
     "output_type": "stream",
     "text": [
      "key\tvalue\t\titem\n",
      "1\t10\t\t1\n",
      "2\t20\t\t2\n",
      "3\t30\t\t3\n",
      "4\t40\t\t4\n",
      "5\t50\t\t5\n",
      "6\t60\t\t6\n"
     ]
    }
   ],
   "source": [
    "irene = {1:10,2:20,3:30,4:40,5:50,6:60}\n",
    "\n",
    "print('key\\tvalue\\t\\titem')\n",
    "item = 0\n",
    "for i in irene:\n",
    "    print(f'{i}\\t{irene[i]}\\t\\t{item+1}')\n",
    "    item += 1"
   ]
  },
  {
   "cell_type": "markdown",
   "metadata": {},
   "source": [
    "Latihan 10.2 Bualah sebuah program untuk memetakan dua list mejadi satu dictionary.\n",
    "Contoh:\n",
    "Data List\n",
    "Lista = ['red', 'green', 'blue']\n",
    "Listb = ['#FF0000','#008000', '#0000FF']"
   ]
  },
  {
   "cell_type": "code",
   "execution_count": 5,
   "metadata": {},
   "outputs": [
    {
     "name": "stdout",
     "output_type": "stream",
     "text": [
      "{'white': '#FFFFFF', 'yellow': '#FFFF00', 'grey': '#808080'}\n"
     ]
    }
   ],
   "source": [
    "lista = ['white','yellow','grey']\n",
    "listb = ['#FFFFFF', '#FFFF00','#808080']\n",
    "\n",
    "data = dict()\n",
    "for x in range (len(lista)):\n",
    "    data[lista[x]]= listb[x]\n",
    "print(data)"
   ]
  },
  {
   "cell_type": "markdown",
   "metadata": {},
   "source": [
    "Latihan 10.3 Dengan menggunakan file mbox-short.txt, buatlah program yang dapat membaca\n",
    "log email dan sajikan dalam histogram menggunakan dictionary. Kemudian hitung berapa\n",
    "banyak pesan yang masuk dari email dan sajikan dalam bentuk dictionary.\n",
    "Silakan cek bagian dibawah ini untuk contoh output dari programnya.\n",
    "Masukkan nama file : mbox-short.txt"
   ]
  },
  {
   "cell_type": "code",
   "execution_count": 8,
   "metadata": {},
   "outputs": [
    {
     "name": "stdout",
     "output_type": "stream",
     "text": [
      "{'stephen.marquard@uct.ac.za': 2, 'louis@media.berkeley.edu': 3, 'zqian@umich.edu': 4, 'rjlowe@iupui.edu': 2, 'cwen@iupui.edu': 5, 'gsilver@umich.edu': 3, 'wagnermr@iupui.edu': 1, 'antranig@caret.cam.ac.uk': 1, 'gopal.ramasammycook@gmail.com': 1, 'david.horwitz@uct.ac.za': 4, 'ray@media.berkeley.edu': 1}\n"
     ]
    }
   ],
   "source": [
    "file_name = input('Masukkan nama file: ')\n",
    "\n",
    "with open(file_name) as file:\n",
    "        kamus = {}\n",
    "        for line in file:\n",
    "            if 'From:' in line:\n",
    "                name = line.replace('From:', '').strip()\n",
    "                kamus[name] = kamus.get(name, 0) + 1\n",
    "        print(kamus)\n",
    "\n",
    "\n",
    "        "
   ]
  },
  {
   "cell_type": "markdown",
   "metadata": {},
   "source": [
    "Latihan 10.3 Dengan menggunakan file mbox-short.txt, buatlah program yang dapat membaca\n",
    "log email dan sajikan dalam histogram menggunakan dictionary. Kemudian hitung berapa\n",
    "banyak pesan yang masuk dari email dan sajikan dalam bentuk dictionary.\n",
    "Silakan cek bagian dibawah ini untuk contoh output dari programnya.\n"
   ]
  },
  {
   "cell_type": "code",
   "execution_count": 15,
   "metadata": {},
   "outputs": [
    {
     "name": "stdout",
     "output_type": "stream",
     "text": [
      "Jumlah pesan dari setiap alamat email:\n",
      "stephen.marquard@uct.ac.za: 2\n",
      "louis@media.berkeley.edu: 3\n",
      "zqian@umich.edu: 4\n",
      "rjlowe@iupui.edu: 2\n",
      "cwen@iupui.edu: 5\n",
      "gsilver@umich.edu: 3\n",
      "wagnermr@iupui.edu: 1\n",
      "antranig@caret.cam.ac.uk: 1\n",
      "gopal.ramasammycook@gmail.com: 1\n",
      "david.horwitz@uct.ac.za: 4\n",
      "ray@media.berkeley.edu: 1\n"
     ]
    }
   ],
   "source": [
    "import re\n",
    "\n",
    "nama_file = input('Masukkan nama file: ')\n",
    "\n",
    "with open(nama_file, 'r') as file:\n",
    "    hitung_email = {}\n",
    "    for baris in file:\n",
    "        if baris.startswith('From:'):\n",
    "            email = re.search(r'From: (\\S+@\\S+)', baris)\n",
    "            if email:\n",
    "                pengirim = email.group(1)\n",
    "                hitung_email[pengirim] = hitung_email.get(pengirim, 0) + 1\n",
    "\n",
    "print(\"Jumlah pesan dari setiap alamat email:\")\n",
    "for email, jumlah in hitung_email.items():\n",
    "    print(f\"{email}: {jumlah}\")\n"
   ]
  }
 ],
 "metadata": {
  "kernelspec": {
   "display_name": "Python 3",
   "language": "python",
   "name": "python3"
  },
  "language_info": {
   "codemirror_mode": {
    "name": "ipython",
    "version": 3
   },
   "file_extension": ".py",
   "mimetype": "text/x-python",
   "name": "python",
   "nbconvert_exporter": "python",
   "pygments_lexer": "ipython3",
   "version": "3.12.0"
  }
 },
 "nbformat": 4,
 "nbformat_minor": 2
}
